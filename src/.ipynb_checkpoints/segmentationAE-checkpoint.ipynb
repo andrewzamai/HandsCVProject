{
 "cells": [
  {
   "cell_type": "markdown",
   "id": "4da53df9-ef59-471f-a3d5-94e176e201d6",
   "metadata": {},
   "source": [
    "# Hand segmentation via Convolutional Autoencoder"
   ]
  },
  {
   "cell_type": "code",
   "execution_count": 1,
   "id": "fb2dd14a-a13e-4f2b-94b1-1938d919a370",
   "metadata": {},
   "outputs": [],
   "source": [
    "import tensorflow as tf\n",
    "from tensorflow import keras\n",
    "\n",
    "import matplotlib.pyplot as plt\n",
    "import numpy as np"
   ]
  },
  {
   "cell_type": "markdown",
   "id": "7af1e6ab-9d1c-4580-8051-314a3ac968de",
   "metadata": {},
   "source": [
    "batch_size = 32\n",
    "img_height = 180\n",
    "img_width = 180Loading images from directory in alphanumeric order, no batches, resize to (), rgb"
   ]
  },
  {
   "cell_type": "code",
   "execution_count": 18,
   "id": "9e6b11d0-d080-4031-881f-24f156868171",
   "metadata": {},
   "outputs": [
    {
     "name": "stdout",
     "output_type": "stream",
     "text": [
      "Found 796 files belonging to 1 classes.\n",
      "Found 796 files belonging to 1 classes.\n"
     ]
    }
   ],
   "source": [
    "batch_size = 32\n",
    "img_height = 224\n",
    "img_width = 224\n",
    "\n",
    "trainOriginalDirPath = \"../images/train/color\"\n",
    "\n",
    "train_ds = tf.keras.utils.image_dataset_from_directory(trainOriginalDirPath,\n",
    "                                                       labels=None,\n",
    "                                                       shuffle=False,\n",
    "                                                       image_size=(img_height, img_width),\n",
    "                                                       batch_size=batch_size)\n",
    "trainSegmentedDirPath = \"../images/train/segmented\"\n",
    "\n",
    "train_mask_ds = tf.keras.utils.image_dataset_from_directory(trainSegmentedDirPath,\n",
    "                                                       labels=None,\n",
    "                                                       shuffle=False,\n",
    "                                                       image_size=(img_height, img_width),\n",
    "                                                       batch_size=batch_size)"
   ]
  },
  {
   "cell_type": "code",
   "execution_count": 20,
   "id": "cc1e62bc-ef97-4a2d-bc02-c825eddf96ee",
   "metadata": {},
   "outputs": [],
   "source": [
    "AUTOTUNE = tf.data.AUTOTUNE\n",
    "\n",
    "train_ds = train_ds.cache().prefetch(buffer_size=AUTOTUNE)\n",
    "train_mask_ds = train_mask_ds.cache().prefetch(buffer_size=AUTOTUNE)"
   ]
  },
  {
   "cell_type": "code",
   "execution_count": 21,
   "id": "f0c428d3-7c7a-4187-851e-c5eb3781c49d",
   "metadata": {},
   "outputs": [
    {
     "name": "stdout",
     "output_type": "stream",
     "text": [
      "Model: \"sequential\"\n",
      "_________________________________________________________________\n",
      " Layer (type)                Output Shape              Param #   \n",
      "=================================================================\n",
      " conv2d (Conv2D)             (None, 222, 222, 32)      896       \n",
      "                                                                 \n",
      " conv2d_1 (Conv2D)           (None, 220, 220, 16)      4624      \n",
      "                                                                 \n",
      " conv2d_2 (Conv2D)           (None, 218, 218, 8)       1160      \n",
      "                                                                 \n",
      " conv2d_transpose (Conv2DTra  (None, 220, 220, 8)      584       \n",
      " nspose)                                                         \n",
      "                                                                 \n",
      " conv2d_transpose_1 (Conv2DT  (None, 222, 222, 16)     1168      \n",
      " ranspose)                                                       \n",
      "                                                                 \n",
      " conv2d_transpose_2 (Conv2DT  (None, 224, 224, 32)     4640      \n",
      " ranspose)                                                       \n",
      "                                                                 \n",
      " conv2d_3 (Conv2D)           (None, 224, 224, 1)       289       \n",
      "                                                                 \n",
      "=================================================================\n",
      "Total params: 13,361\n",
      "Trainable params: 13,361\n",
      "Non-trainable params: 0\n",
      "_________________________________________________________________\n"
     ]
    }
   ],
   "source": [
    "autoencoder = keras.models.Sequential()\n",
    "\n",
    "autoencoder.add( keras.layers.Conv2D(32, kernel_size=(3, 3), activation='relu', kernel_initializer='he_normal', input_shape=(224,224,3)))\n",
    "autoencoder.add( keras.layers.Conv2D(16, kernel_size=(3, 3), activation='relu', kernel_initializer='he_normal'))\n",
    "autoencoder.add( keras.layers.Conv2D(8, kernel_size=(3, 3), activation='relu', kernel_initializer='he_normal'))\n",
    "autoencoder.add( keras.layers.Conv2DTranspose(8, kernel_size=(3,3), activation='relu', kernel_initializer='he_normal'))\n",
    "autoencoder.add( keras.layers.Conv2DTranspose(16, kernel_size=(3,3), activation='relu', kernel_initializer='he_normal'))\n",
    "autoencoder.add( keras.layers.Conv2DTranspose(32, kernel_size=(3,3), activation='relu', kernel_initializer='he_normal'))\n",
    "autoencoder.add( keras.layers.Conv2D(1, kernel_size=(3, 3), activation='sigmoid', padding='same'))\n",
    "          \n",
    "autoencoder.summary()"
   ]
  },
  {
   "cell_type": "code",
   "execution_count": null,
   "id": "98824ddc-6f3a-48de-b904-6259bf4ca38d",
   "metadata": {},
   "outputs": [],
   "source": []
  },
  {
   "cell_type": "code",
   "execution_count": 22,
   "id": "397757cc-1b7f-47fa-b202-fb5c77f088ae",
   "metadata": {},
   "outputs": [],
   "source": [
    "autoencoder.compile(loss='binary_crossentropy',\n",
    "              optimizer=keras.optimizers.Adam(learning_rate=1e-3))"
   ]
  },
  {
   "cell_type": "code",
   "execution_count": 24,
   "id": "33618da4-de1a-4538-9d71-1f30a30c4add",
   "metadata": {},
   "outputs": [
    {
     "ename": "AttributeError",
     "evalue": "'PrefetchDataset' object has no attribute 'to_numpy'",
     "output_type": "error",
     "traceback": [
      "\u001b[0;31m---------------------------------------------------------------------------\u001b[0m",
      "\u001b[0;31mAttributeError\u001b[0m                            Traceback (most recent call last)",
      "Input \u001b[0;32mIn [24]\u001b[0m, in \u001b[0;36m<cell line: 1>\u001b[0;34m()\u001b[0m\n\u001b[0;32m----> 1\u001b[0m history \u001b[38;5;241m=\u001b[39m autoencoder\u001b[38;5;241m.\u001b[39mfit(\u001b[43mtrain_ds\u001b[49m\u001b[38;5;241;43m.\u001b[39;49m\u001b[43mto_numpy\u001b[49m(), train_mask_ds\u001b[38;5;241m.\u001b[39mto_numpy(), epochs\u001b[38;5;241m=\u001b[39m\u001b[38;5;241m20\u001b[39m)\n",
      "\u001b[0;31mAttributeError\u001b[0m: 'PrefetchDataset' object has no attribute 'to_numpy'"
     ]
    }
   ],
   "source": [
    "history = autoencoder.fit(train_ds, train_mask_ds.to_numpy(), epochs=20)"
   ]
  },
  {
   "cell_type": "code",
   "execution_count": null,
   "id": "75ef9de5-22b4-4640-bf6a-ad4d212e2a7d",
   "metadata": {},
   "outputs": [],
   "source": []
  }
 ],
 "metadata": {
  "kernelspec": {
   "display_name": "Python 3 (ipykernel)",
   "language": "python",
   "name": "python3"
  },
  "language_info": {
   "codemirror_mode": {
    "name": "ipython",
    "version": 3
   },
   "file_extension": ".py",
   "mimetype": "text/x-python",
   "name": "python",
   "nbconvert_exporter": "python",
   "pygments_lexer": "ipython3",
   "version": "3.8.11"
  }
 },
 "nbformat": 4,
 "nbformat_minor": 5
}
